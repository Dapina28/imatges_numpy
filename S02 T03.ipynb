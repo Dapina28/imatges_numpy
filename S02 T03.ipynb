{
 "cells": [
  {
   "cell_type": "markdown",
   "metadata": {},
   "source": [
    "# Nivell 1\n",
    "## Exercici 1\n",
    "\n",
    "**L'exercici consisteix a crear un programa que et classifiqui una variable numèrica en funció de l’escala Suspès/Aprovat/Notable/Excel·lent.**"
   ]
  },
  {
   "cell_type": "code",
   "execution_count": 7,
   "metadata": {},
   "outputs": [
    {
     "name": "stdout",
     "output_type": "stream",
     "text": [
      "Escull un número del 0 al 10: 8\n",
      "Notable\n"
     ]
    }
   ],
   "source": [
    "num = int(input(\"Escull un número del 0 al 10: \"))\n",
    "if num >= 0 and num <= 10:\n",
    "    if num >= 9:\n",
    "        print(\"Exel·lent\")\n",
    "    elif num >= 7 and num < 9:\n",
    "        print(\"Notable\")\n",
    "    elif num >=5 and num < 7:\n",
    "        print(\"Aprovat\")\n",
    "    elif num < 5:\n",
    "        print(\"Suspès\")\n",
    "else:\n",
    "    print(\"Número no vàlid\")"
   ]
  },
  {
   "cell_type": "markdown",
   "metadata": {},
   "source": [
    "## Exercici 2\n",
    "**Utilitzant el següent tutorial Programiz: Python Input, Output and Import crea un programa que et pregunti dos números. T’ha de mostrar un missatge dient si el primer és més gran, el segon és més gran o són iguals.**"
   ]
  },
  {
   "cell_type": "code",
   "execution_count": 2,
   "metadata": {},
   "outputs": [
    {
     "name": "stdout",
     "output_type": "stream",
     "text": [
      "Escull un número: 2\n",
      "Escull un alte número: 3\n",
      "El segon número (3.0), és més gran que el primer (2.0)\n"
     ]
    }
   ],
   "source": [
    "num1 = float(input(\"Escull un número: \"))\n",
    "num2 = float(input(\"Escull un alte número: \"))\n",
    "\n",
    "if num1 > num2:\n",
    "    print(f\"El primer número ({num1}), és més gran que el segon ({num2})\")\n",
    "elif num2 > num1:\n",
    "    print(f\"El segon número ({num2}), és més gran que el primer ({num1})\")\n",
    "else:\n",
    "    print(\"Els dos números són iguals\")"
   ]
  },
  {
   "cell_type": "markdown",
   "metadata": {},
   "source": [
    "## Exercici 3\n",
    "**Crea un programa que et pregunti el teu nom, i et demani un número. Si el número és 0, hauria de mostrar un missatge d’error. En cas contrari, hauria de mostrar el nom repetit tants cops com indiqui el número. Per exemple, “Joan Joan Joan”.**"
   ]
  },
  {
   "cell_type": "code",
   "execution_count": 21,
   "metadata": {},
   "outputs": [
    {
     "name": "stdout",
     "output_type": "stream",
     "text": [
      "Escriu un nom: David\n",
      "Quantes vegades el vols repetir? 3\n",
      "David\n",
      "David\n",
      "David\n"
     ]
    }
   ],
   "source": [
    "nom = input(\"Escriu un nom: \")\n",
    "num = int(input(\"Quantes vegades el vols repetir? \"))\n",
    "\n",
    "if num != 0:\n",
    "    for x in range(num):\n",
    "        print(nom)"
   ]
  },
  {
   "cell_type": "markdown",
   "metadata": {},
   "source": [
    "## Exercici 4\n",
    "**Crea un programa que donada una llista qualsevol, et digui si es simètrica o no. Si ho és, que et digui quants elements té.**"
   ]
  },
  {
   "cell_type": "code",
   "execution_count": 29,
   "metadata": {},
   "outputs": [
    {
     "name": "stdout",
     "output_type": "stream",
     "text": [
      "Llista1 -> La llista és simètrica i te 6 elements\n",
      "Llista2 -> La llista no és simètrica\n"
     ]
    }
   ],
   "source": [
    "llista1 = [1,2,3,3,2,1]\n",
    "llista2 = [1,2,3,5,6,7]\n",
    "\n",
    "def esSimetrica (llista):\n",
    "    if llista == llista[::-1]:\n",
    "        return F\"La llista és simètrica i te {len(llista)} elements\"\n",
    "    else:\n",
    "        return f\"La llista no és simètrica\"\n",
    "\n",
    "print(f\"Llista1 -> {esSimetrica(llista1)}\")\n",
    "print(f\"Llista2 -> {esSimetrica(llista2)}\")\n",
    "        \n"
   ]
  },
  {
   "cell_type": "markdown",
   "metadata": {},
   "source": [
    "## Exercici 5\n",
    "**Crea un programa que donada una llista, et digui quants números coincideixen amb la seva posició. Per exemple [3,4,2,0,2,3,6] el 2 i el 6 coincideixen.**"
   ]
  },
  {
   "cell_type": "code",
   "execution_count": 23,
   "metadata": {},
   "outputs": [
    {
     "name": "stdout",
     "output_type": "stream",
     "text": [
      "El 4 coincideix\n",
      "El 6 coincideix\n"
     ]
    }
   ],
   "source": [
    "llista = [3,2,3,0,4,3,6]\n",
    "\n",
    "for x in llista:\n",
    "    if llista[x] == x:\n",
    "        print(f\"El {llista[x]} coincideix\")"
   ]
  },
  {
   "cell_type": "code",
   "execution_count": null,
   "metadata": {},
   "outputs": [],
   "source": []
  }
 ],
 "metadata": {
  "kernelspec": {
   "display_name": "Python 3",
   "language": "python",
   "name": "python3"
  },
  "language_info": {
   "codemirror_mode": {
    "name": "ipython",
    "version": 3
   },
   "file_extension": ".py",
   "mimetype": "text/x-python",
   "name": "python",
   "nbconvert_exporter": "python",
   "pygments_lexer": "ipython3",
   "version": "3.7.6"
  }
 },
 "nbformat": 4,
 "nbformat_minor": 4
}
