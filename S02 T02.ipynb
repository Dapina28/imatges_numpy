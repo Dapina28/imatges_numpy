{
 "cells": [
  {
   "cell_type": "markdown",
   "metadata": {},
   "source": [
    "# Nivell 1\n",
    "\n",
    "## Exercici 1\n",
    "**Crea un np.array d'una dimensió, que inclogui l'almenys 8 nombres sencers, data type int64. Mostra la dimensió i la forma de la matriu.**"
   ]
  },
  {
   "cell_type": "code",
   "execution_count": 2,
   "metadata": {},
   "outputs": [
    {
     "name": "stdout",
     "output_type": "stream",
     "text": [
      "int64\n",
      "La dimensió del array és de 1 dimensió\n",
      "Shape: (8,)\n"
     ]
    }
   ],
   "source": [
    "import numpy as np\n",
    "\n",
    "arr = np.array([1,2,3,4,5,6,7,8], dtype = 'i8')\n",
    "print(arr.dtype)\n",
    "print(f\"La dimensió del array és de {arr.ndim} dimensió\")\n",
    "print(f\"Shape: {arr.shape}\")"
   ]
  },
  {
   "cell_type": "markdown",
   "metadata": {},
   "source": [
    "## Exercici 2\n",
    "**De la matriu de l'exercici 1, calcula el valor mitjà dels valors introduïts.**"
   ]
  },
  {
   "cell_type": "code",
   "execution_count": 3,
   "metadata": {},
   "outputs": [
    {
     "name": "stdout",
     "output_type": "stream",
     "text": [
      "El valor mitjà és: 4.5\n"
     ]
    }
   ],
   "source": [
    "print(f\"El valor mitjà és: {np.mean(arr)}\")"
   ]
  },
  {
   "cell_type": "markdown",
   "metadata": {},
   "source": [
    "## Exercici 3\n",
    "**Crea una matriu bidimensional amb una forma de 5 x 5. Extreu el valor màxim de la matriu, i els valors màxims de cadascun dels seus eixos.**"
   ]
  },
  {
   "cell_type": "code",
   "execution_count": 4,
   "metadata": {},
   "outputs": [
    {
     "name": "stdout",
     "output_type": "stream",
     "text": [
      "Valor màxim de cada eix: [ 5 10 11  5  8]\n",
      "El valor més gran de la matriu és: 11\n"
     ]
    }
   ],
   "source": [
    "arr2 = np.array([[1,2,3,4,5],[6,7,8,9,10],[11,9,8,7,6],[5,4,3,2,1],[5,2,7,8,1]])\n",
    "arr2_O = np.sort(arr2)\n",
    "arr2_O = np.hsplit(arr2_O, 5)\n",
    "arr2_O = arr2_O[4].reshape(-1)\n",
    "print(f\"Valor màxim de cada eix: {arr2_O}\")\n",
    "arr2_O.sort()\n",
    "print(f\"El valor més gran de la matriu és: {arr2_O[-1]}\")"
   ]
  },
  {
   "cell_type": "markdown",
   "metadata": {},
   "source": [
    "# Nivell 2\n",
    "\n",
    "## Exercici 4\n",
    "**Mostreu-me amb exemples de diferents matrius, la regla fonamental de Broadcasting que diu : \"les matrius es poden transmetre / broadcast si les seves dimensions coincideixen o si una de les matrius té una mida d'1\".**"
   ]
  },
  {
   "cell_type": "code",
   "execution_count": 5,
   "metadata": {},
   "outputs": [
    {
     "name": "stdout",
     "output_type": "stream",
     "text": [
      "Al multiplicar dues matrius amb les mateixes dimensions no trobem cap problema:\n",
      "[[16 36  4]\n",
      " [64  4 25]\n",
      " [64  9  1]]\n",
      "Si operem dues matrius amb diferents dimensions podem veure que no es pot realitzar el càlcul i python ens retorno un error:\n"
     ]
    },
    {
     "ename": "ValueError",
     "evalue": "operands could not be broadcast together with shapes (3,3) (2,3) ",
     "output_type": "error",
     "traceback": [
      "\u001b[1;31m---------------------------------------------------------------------------\u001b[0m",
      "\u001b[1;31mValueError\u001b[0m                                Traceback (most recent call last)",
      "Input \u001b[1;32mIn [5]\u001b[0m, in \u001b[0;36m<cell line: 6>\u001b[1;34m()\u001b[0m\n\u001b[0;32m      4\u001b[0m \u001b[38;5;28mprint\u001b[39m(\u001b[38;5;124mf\u001b[39m\u001b[38;5;124m\"\u001b[39m\u001b[38;5;124mAl multiplicar dues matrius amb les mateixes dimensions no trobem cap problema:\u001b[39m\u001b[38;5;130;01m\\n\u001b[39;00m\u001b[38;5;132;01m{\u001b[39;00marr1 \u001b[38;5;241m*\u001b[39m arr2\u001b[38;5;132;01m}\u001b[39;00m\u001b[38;5;124m\"\u001b[39m)\n\u001b[0;32m      5\u001b[0m \u001b[38;5;28mprint\u001b[39m(\u001b[38;5;124m\"\u001b[39m\u001b[38;5;124mSi operem dues matrius amb diferents dimensions podem veure que no es pot realitzar el càlcul i python ens retorno un error:\u001b[39m\u001b[38;5;124m\"\u001b[39m)\n\u001b[1;32m----> 6\u001b[0m \u001b[38;5;28mprint\u001b[39m(\u001b[38;5;124mf\u001b[39m\u001b[38;5;124m\"\u001b[39m\u001b[38;5;132;01m{\u001b[39;00marr1 \u001b[38;5;241m*\u001b[39m arr3\u001b[38;5;132;01m}\u001b[39;00m\u001b[38;5;124m\"\u001b[39m)\n",
      "\u001b[1;31mValueError\u001b[0m: operands could not be broadcast together with shapes (3,3) (2,3) "
     ]
    }
   ],
   "source": [
    "arr1 = np.array([[4,6,2],[8,2,5],[8,3,1]])\n",
    "arr2 = np.array([[4,6,2],[8,2,5],[8,3,1]])\n",
    "arr3 = np.array([[4,6,2],[8,2,5]])\n",
    "print(f\"Al multiplicar dues matrius amb les mateixes dimensions no trobem cap problema:\\n{arr1 * arr2}\")\n",
    "print(\"Si operem dues matrius amb diferents dimensions podem veure que no es pot realitzar el càlcul i python ens retorno un error:\")\n",
    "print(f\"{arr1 * arr3}\") "
   ]
  },
  {
   "cell_type": "markdown",
   "metadata": {},
   "source": [
    "## Exercici 5\n",
    "**Utilitza la Indexació per extreure els valors d'una columna i una fila de la matriu. I suma els seus valors.**"
   ]
  },
  {
   "cell_type": "code",
   "execution_count": 6,
   "metadata": {},
   "outputs": [
    {
     "name": "stdout",
     "output_type": "stream",
     "text": [
      "Columna 2: [6 2 3]\n",
      "Suma: 11\n",
      "Fila 1: [4 6 2]\n",
      "Suma: 12\n"
     ]
    }
   ],
   "source": [
    "arr1 = np.array([[4,6,2],[8,2,5],[8,3,1]])\n",
    "arr1_col = np.array_split(arr1, 3, axis = 1)\n",
    "arr1_col = arr1_col[1].reshape(-1)\n",
    "print(f\"Columna 2: {arr1_col}\\nSuma: {sum(arr1_col)}\")\n",
    "print(f\"Fila 1: {arr1[0]}\\nSuma: {sum(arr1[0])}\")"
   ]
  },
  {
   "cell_type": "markdown",
   "metadata": {},
   "source": [
    "## Exercici 6\n",
    "**Mask la matriu anterior, realitzeu un càlcul booleà vectoritzat, agafant cada element i comprovant si es divideix uniformement per quatre.**\n",
    "\n",
    "**Això retorna una matriu de mask de la mateixa forma amb els resultats elementals del càlcul.**"
   ]
  },
  {
   "cell_type": "code",
   "execution_count": 7,
   "metadata": {},
   "outputs": [
    {
     "name": "stdout",
     "output_type": "stream",
     "text": [
      "La màscara booleana de la matriu anterior aplicant la condició mencionada és la següent:\n",
      "[[ True False False]\n",
      " [ True False False]\n",
      " [ True False False]] \n"
     ]
    }
   ],
   "source": [
    "mask = arr1%4 == 0\n",
    "print(f\"La màscara booleana de la matriu anterior aplicant la condició mencionada és la següent:\\n{mask} \")"
   ]
  },
  {
   "cell_type": "markdown",
   "metadata": {},
   "source": [
    "## Exercici 7\n",
    "**A continuació, utilitzeu aquesta màscara per indexar a la matriu de números original. Això fa que la matriu perdi la seva forma original, reduint-la a una dimensió, però encara obteniu les dades que esteu cercant.**"
   ]
  },
  {
   "cell_type": "code",
   "execution_count": 8,
   "metadata": {},
   "outputs": [
    {
     "name": "stdout",
     "output_type": "stream",
     "text": [
      "Filtrant els elements de la matiru original gràcies a la màscara que hem creat, obtenim una matriu de 1D amb tots els elements que compleixen la condició especificada:\n",
      "[4 8 8]\n"
     ]
    }
   ],
   "source": [
    "arr1[mask]\n",
    "print(\"Filtrant els elements de la matiru original gràcies a la màscara que hem creat,\"+\n",
    "      f\" obtenim una matriu de 1D amb tots els elements que compleixen la condició especificada:\\n{arr1[mask]}\")"
   ]
  },
  {
   "attachments": {
    "foto.jfif": {
     "image/jpeg": "[encoded data removed]"
    }
   },
   "cell_type": "markdown",
   "metadata": {},
   "source": [
    "# Nivell 3\n",
    "_Manipulació d’imatges amb Matplotlib._\n",
    "\n",
    "**Carregareu qualsevol imatge (jpg, png ..) amb Matplotlib. adoneu-vos que les imatges RGB (Red, Green, Blue) són realment només amplades × alçades × 3 matrius (tres canals Vermell, Verd i Blau), una per cada color de nombres enters int8,\n",
    "manipuleu aquests bytes i torneu a utilitzar Matplotlib per desar la imatge modificada un cop hàgiu acabat.**\n",
    "\n",
    "**Ajuda:Importeu, import matplotlib.image as mpimg. estudieu el metode** _mpimg.imread()_\n",
    "## Exercici 8\n",
    "**Mostreu-me a veure que passa quan eliminem el canal G Verd o B Blau.**\n",
    "\n",
    "**Mostreu-me a veure què passa quan eliminem el canal G Verd o B Blau. Hauries d'utilitzar la indexació per seleccionar el canal que voleu anul·lar.**\n",
    "\n",
    "**Utilitzar el mètode, mpimg.imsave () de la llibreria importada, per guardar les imatges modificades i que haureu de pujar al vostre repositori a github.**\n",
    "\n",
    "Imatge:\n",
    "\n",
    "![foto.jfif](attachment:foto.jfif)\n"
   ]
  },
  {
   "cell_type": "code",
   "execution_count": 10,
   "metadata": {},
   "outputs": [
    {
     "data": {
      "text/plain": [
       "(180, 279, 3)"
      ]
     },
     "execution_count": 10,
     "metadata": {},
     "output_type": "execute_result"
    }
   ],
   "source": [
    "import matplotlib.image as mpimg\n",
    "img = mpimg.imread('foto.jfif')\n",
    "img.shape"
   ]
  },
  {
   "cell_type": "code",
   "execution_count": 34,
   "metadata": {},
   "outputs": [],
   "source": [
    "#Agafem el color vermell i el blau i els sumem per tal d'obtenir la foto sense el color verd\n",
    "noVerd = img[:, :, 0] + img[:,:,2]\n",
    "mpimg.imsave ('noVerd.png', noVerd)"
   ]
  },
  {
   "cell_type": "code",
   "execution_count": null,
   "metadata": {},
   "outputs": [],
   "source": []
  }
 ],
 "metadata": {
  "kernelspec": {
   "display_name": "Python 3 (ipykernel)",
   "language": "python",
   "name": "python3"
  },
  "language_info": {
   "codemirror_mode": {
    "name": "ipython",
    "version": 3
   },
   "file_extension": ".py",
   "mimetype": "text/x-python",
   "name": "python",
   "nbconvert_exporter": "python",
   "pygments_lexer": "ipython3",
   "version": "3.9.12"
  }
 },
 "nbformat": 4,
 "nbformat_minor": 4
}
